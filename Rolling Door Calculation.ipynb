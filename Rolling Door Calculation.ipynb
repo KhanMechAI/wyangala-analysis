{
 "cells": [
  {
   "cell_type": "markdown",
   "metadata": {},
   "source": [
    "# Door Rolling Calculations\n",
    "\n",
    "Consider the problem as a trolley on wheels. Classically you would ignore the friction in the bearings as it is negligable - which it is, otherwise it wouldnt be a very good bearing. We can include it anyway to be more exact, sort of.\n",
    "\n",
    "Therefore, the problem has 2 components. \n",
    "\n",
    "1. Calculate the loss due to friction. This will tell us the force needed to maintain the velocity of the door.\n",
    "2. Calculate the force to accelerate the door."
   ]
  },
  {
   "cell_type": "markdown",
   "metadata": {},
   "source": [
    "## Resistance from bearing\n",
    "Friction force is caclulated by;\n",
    "\n",
    "\\begin{align*}\n",
    "F_{s} = \\mu_s N \\ \\text{[1]} \\\\\n",
    "F_{k} = \\mu_k N \\ \\text{[1]}\n",
    "\\end{align*}\n",
    "\n",
    "Bearing manufacturers sypically only give one friction factor, so it is assumed that $\\mu_s = \\mu_k$ and hence that $F_s = F_k$\n",
    "\n",
    "The value of $\\mu$ is taken as 0.001 [2]\n",
    "\n",
    "We will denote friction force as $F_f$."
   ]
  },
  {
   "cell_type": "code",
   "execution_count": 1,
   "metadata": {},
   "outputs": [
    {
     "name": "stdout",
     "output_type": "stream",
     "text": [
      "Mass of door: 1635.84 kg\n",
      "Load of door: 16047.55 N\n",
      "Rolling resistance: 16.05 N\n"
     ]
    }
   ],
   "source": [
    "g = 9.81 #m/s^2\n",
    "m_door = 1635.836 #kg\n",
    "print(f'Mass of door: {m_door:.2f} kg')\n",
    "\n",
    "#Weight of door\n",
    "F_door = m_door*g\n",
    "print(f'Load of door: {F_door:.2f} N')\n",
    "\n",
    "#Friction calc\n",
    "mu = 0.001 # \n",
    "F_f = mu*F_door\n",
    "print(f'Rolling resistance: {F_f:.2f} N')"
   ]
  },
  {
   "cell_type": "markdown",
   "metadata": {},
   "source": [
    "## Accelerating force\n",
    "To calculate this we need to make assumptions about how fast to accelerate the door and at what speed we will stop accelerating.\n",
    "\n",
    "I have taken the approach of assigning an amount of time to accelerate. this has been assumed to be $5s$.\n",
    "\n",
    "I have assumed the final velocity to be $0.3 \\frac{m}{s}$.\n",
    "\n",
    "The arc length of the door is $L_a \\approx 3.5 \\ m$ [3].\n",
    "\n",
    "Therefore to calculate the force required to open the door we use\n",
    "\n",
    "$$\\Sigma F = ma$$\n",
    "\n",
    "Expanding to include all forces,\n",
    "\n",
    "$$F - F_{f} = ma$$\n",
    "\n",
    "Rearranging,\n",
    "\n",
    "$$F = ma + F_{f}$$"
   ]
  },
  {
   "cell_type": "code",
   "execution_count": 2,
   "metadata": {},
   "outputs": [
    {
     "name": "stdout",
     "output_type": "stream",
     "text": [
      "Acceleration of door: 0.06 m/s^2\n",
      "Force to accelerate: 114.20 N\n",
      "Equivalent mass of force: 11.64 kg\n",
      "Approx time to open door: 11.7 s\n"
     ]
    }
   ],
   "source": [
    "time_to_accelerate = 5 #s\n",
    "final_velocity = .3 #m/s\n",
    "l_a = 3.5\n",
    "\n",
    "a_of_door =  final_velocity/time_to_accelerate #m/s^2\n",
    "print(f'Acceleration of door: {a_of_door:.2} m/s^2')\n",
    "\n",
    "F_to_accelerate = m_door*a_of_door + F_f\n",
    "print(f'Force to accelerate: {F_to_accelerate:.2f} N')\n",
    "\n",
    "mass_of_F = F_to_accelerate/g\n",
    "print(f'Equivalent mass of force: {mass_of_F:.2f} kg')\n",
    "\n",
    "time_to_open_door = l_a/final_velocity\n",
    "print(f'Approx time to open door: {time_to_open_door:.1f} s')"
   ]
  },
  {
   "cell_type": "markdown",
   "metadata": {},
   "source": [
    "## Static velocity force\n",
    "The force required to maintain the velocity will be that to overcome the bearing friction."
   ]
  },
  {
   "cell_type": "code",
   "execution_count": 3,
   "metadata": {
    "scrolled": false
   },
   "outputs": [
    {
     "name": "stdout",
     "output_type": "stream",
     "text": [
      "Static velocity force (equal to rolling resistance): 16.05 N\n",
      "Equivalent mass of force: 1.64 kg\n"
     ]
    }
   ],
   "source": [
    "print(f'Static velocity force (equal to rolling resistance): {F_f:.2f} N')\n",
    "mass_of_F = F_f/g\n",
    "print(f'Equivalent mass of force: {mass_of_F:.2f} kg')"
   ]
  },
  {
   "cell_type": "markdown",
   "metadata": {},
   "source": [
    "# References\n",
    "[1] Halliday & Resnick, Fundamentals of Physics, 10th Ed\n",
    "\n",
    "[2] https://www.amroll.com/friction-frequency-factors.html \"Amroll\"\n",
    "\n",
    "[3] High level intake - Hoist House Vertical lift Doors Details, Drawing 179/684"
   ]
  }
 ],
 "metadata": {
  "kernelspec": {
   "display_name": "Python 3",
   "language": "python",
   "name": "python3"
  },
  "language_info": {
   "codemirror_mode": {
    "name": "ipython",
    "version": 3
   },
   "file_extension": ".py",
   "mimetype": "text/x-python",
   "name": "python",
   "nbconvert_exporter": "python",
   "pygments_lexer": "ipython3",
   "version": "3.8.0"
  }
 },
 "nbformat": 4,
 "nbformat_minor": 2
}
